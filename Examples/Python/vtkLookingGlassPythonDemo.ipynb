{
 "cells": [
  {
   "cell_type": "code",
   "execution_count": 2,
   "id": "behind-duplicate",
   "metadata": {},
   "outputs": [],
   "source": [
    "# Import VTK\n",
    "# At this time, you will need to compiled VTK with the Looking Glass module enabled and Python \n",
    "#   wrapping enabled.   Soon we will provide a pip installable version of VTK with the Looking\n",
    "#   Glass module enabled.   For more details, please visit https://vtk.org\n",
    "import vtk\n",
    "\n",
    "from vtk import vtkRenderingLookingGlass\n",
    "\n",
    "# Declare a VTK rendering process\n",
    "ren = vtk.vtkRenderer()\n",
    "\n",
    "# This is the one line to change to use a Looking Glass holographic display\n",
    "#   Use the following line to render to your standard screen:\n",
    "#     renWin = vtk.vtkRenderWindow()\n",
    "#   Use the following line to render to the Looking Glass:  \n",
    "renWin = vtkRenderingLookingGlass.vtkLookingGlassInterface.CreateLookingGlassRenderWindow()\n",
    "\n",
    "# Add the rendering process to the window\n",
    "renWin.AddRenderer(ren)\n",
    "\n",
    "# The mouse controls the position of the camera\n",
    "iren = vtk.vtkRenderWindowInteractor()\n",
    "iren.SetRenderWindow(renWin)\n",
    "\n",
    "# Add some text to the display\n",
    "text = vtk.vtkVectorText()\n",
    "text.SetText(\"Hello VTK!\")\n",
    "textMapper = vtk.vtkPolyDataMapper()\n",
    "textMapper.SetInputConnection(text.GetOutputPort())\n",
    "textActor = vtk.vtkActor()\n",
    "textActor.SetMapper(textMapper)\n",
    "ren.AddActor(textActor)\n",
    "\n",
    "# Position a cone above the text\n",
    "cone = vtk.vtkConeSource()\n",
    "cone.SetRadius(2)\n",
    "cone.SetHeight(4)\n",
    "cone.SetCenter(4,4,2)\n",
    "cone.SetDirection(0,0,1)\n",
    "coneMapper = vtk.vtkPolyDataMapper()\n",
    "coneMapper.SetInputConnection(cone.GetOutputPort())\n",
    "coneActor = vtk.vtkActor()\n",
    "coneActor.SetMapper(coneMapper)\n",
    "ren.AddActor(coneActor)\n",
    "\n",
    "# Initialize the window\n",
    "renWin.Initialize()\n",
    "ren.ResetCamera()\n",
    "ren.GetActiveCamera().SetViewAngle(30)\n",
    "\n",
    "# The mouse controls the camera until \"q\" is pressed to exit\n",
    "iren.Start()"
   ]
  },
  {
   "cell_type": "code",
   "execution_count": null,
   "id": "external-madagascar",
   "metadata": {},
   "outputs": [],
   "source": []
  }
 ],
 "metadata": {
  "kernelspec": {
   "display_name": "Python 3",
   "language": "python",
   "name": "python3"
  },
  "language_info": {
   "codemirror_mode": {
    "name": "ipython",
    "version": 3
   },
   "file_extension": ".py",
   "mimetype": "text/x-python",
   "name": "python",
   "nbconvert_exporter": "python",
   "pygments_lexer": "ipython3",
   "version": "3.8.5"
  }
 },
 "nbformat": 4,
 "nbformat_minor": 5
}
